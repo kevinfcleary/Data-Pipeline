{
 "cells": [
  {
   "cell_type": "code",
   "execution_count": 1,
   "metadata": {},
   "outputs": [],
   "source": [
    "#Need pandas to process to take in the excel file we get from Crimson Hexagon\n",
    "import pandas as pd"
   ]
  },
  {
   "cell_type": "code",
   "execution_count": 2,
   "metadata": {},
   "outputs": [],
   "source": [
    "#Instead of Newcollar put in the file name\n",
    "xl = pd.ExcelFile(\"Newcollar.xlsx\")"
   ]
  },
  {
   "cell_type": "code",
   "execution_count": 3,
   "metadata": {},
   "outputs": [
    {
     "data": {
      "text/plain": [
       "['IBM Education Blueprint']"
      ]
     },
     "execution_count": 3,
     "metadata": {},
     "output_type": "execute_result"
    }
   ],
   "source": [
    "# This command will return the sheet names within the Excel file, which are what we need to pull the data into Python\n",
    "xl.sheet_names"
   ]
  },
  {
   "cell_type": "code",
   "execution_count": 4,
   "metadata": {},
   "outputs": [],
   "source": [
    "#This command parses the Excel file into a dataframe\n",
    "df = xl.parse('IBM Education Blueprint')"
   ]
  },
  {
   "cell_type": "code",
   "execution_count": 5,
   "metadata": {},
   "outputs": [],
   "source": [
    "#Passing the contents of the tweets into a list\n",
    "tweet_list = df.Contents.tolist()"
   ]
  },
  {
   "cell_type": "code",
   "execution_count": 6,
   "metadata": {},
   "outputs": [],
   "source": [
    "import re"
   ]
  },
  {
   "cell_type": "code",
   "execution_count": 7,
   "metadata": {},
   "outputs": [],
   "source": [
    "#Cycling through the list and removing all links within the text. This helps remove redundancies in the list of tweets.\n",
    "for i in range(0,(len(tweet_list)-1)):\n",
    "   tweet_list[i] = re.sub(r'http\\S+', '', tweet_list[i])"
   ]
  },
  {
   "cell_type": "code",
   "execution_count": 8,
   "metadata": {},
   "outputs": [],
   "source": [
    "#Assigning a new column in the dataframe of the stripped text\n",
    "df['Text_only'] = tweet_list"
   ]
  },
  {
   "cell_type": "code",
   "execution_count": 9,
   "metadata": {},
   "outputs": [],
   "source": [
    "#Dropping all duplicates based on just the stripped text\n",
    "df_unique = df.loc[df['Text_only'].drop_duplicates().index]"
   ]
  },
  {
   "cell_type": "code",
   "execution_count": 10,
   "metadata": {},
   "outputs": [],
   "source": [
    "#This drops all non-essential columns currently stored in memory.\n",
    "df_unique=df_unique.drop(['Date (EST)', 'Author', 'Text_only', 'Country','State/Region', 'City/Urban Area', 'Category', 'Emotion', 'Source',\n",
    "       'Klout Score', 'Gender', 'Posts', 'Followers', 'Following',\n",
    "       'Post Title', 'Post Type', 'Image URL', 'Brand' ],axis=1)"
   ]
  },
  {
   "cell_type": "code",
   "execution_count": 13,
   "metadata": {},
   "outputs": [],
   "source": [
    "#This renames the column names to the formatting of Figure Eight\n",
    "df_unique = df_unique.rename(columns={'GUID':'tweet_id', 'URL':'tweet_url', 'Contents':'tweet_content', 'Name':'name' })"
   ]
  },
  {
   "cell_type": "code",
   "execution_count": 14,
   "metadata": {},
   "outputs": [],
   "source": [
    "#This reshuffles the order of columns\n",
    "df_unique = df_unique[['name','tweet_content','tweet_id','tweet_url']]"
   ]
  },
  {
   "cell_type": "code",
   "execution_count": 15,
   "metadata": {},
   "outputs": [],
   "source": [
    "#This sets in the index to the name field.\n",
    "df_unique=df_unique.set_index('name')"
   ]
  },
  {
   "cell_type": "code",
   "execution_count": 16,
   "metadata": {},
   "outputs": [],
   "source": [
    "#This passes the dataframe to a csv and ensures the encoding desired bty Figure Eight\n",
    "df_unique.to_csv('Newcollar_unique.csv',encoding='utf-8')"
   ]
  }
 ],
 "metadata": {
  "kernelspec": {
   "display_name": "Python 3",
   "language": "python",
   "name": "python3"
  },
  "language_info": {
   "codemirror_mode": {
    "name": "ipython",
    "version": 3
   },
   "file_extension": ".py",
   "mimetype": "text/x-python",
   "name": "python",
   "nbconvert_exporter": "python",
   "pygments_lexer": "ipython3",
   "version": "3.6.4"
  }
 },
 "nbformat": 4,
 "nbformat_minor": 2
}

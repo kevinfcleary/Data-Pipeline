{
 "cells": [
  {
   "cell_type": "code",
   "execution_count": 1,
   "metadata": {},
   "outputs": [],
   "source": [
    "#Need pandas to process to take in the excel file we get from Crimson Hexagon, trimming the columns, shuffling them around\n",
    "#and then passing out a CSV\n",
    "import pandas as pd"
   ]
  },
  {
   "cell_type": "code",
   "execution_count": 8,
   "metadata": {},
   "outputs": [],
   "source": [
    "#Instead of Newcollar put in the file name\n",
    "xl = pd.ExcelFile(\"Newcollar.xlsx\")"
   ]
  },
  {
   "cell_type": "code",
   "execution_count": 9,
   "metadata": {},
   "outputs": [
    {
     "data": {
      "text/plain": [
       "['IBM Education Blueprint']"
      ]
     },
     "execution_count": 9,
     "metadata": {},
     "output_type": "execute_result"
    }
   ],
   "source": [
    "# This command will return the sheet names within the Excel file, which are what we need to pull the data into Python\n",
    "xl.sheet_names"
   ]
  },
  {
   "cell_type": "code",
   "execution_count": 10,
   "metadata": {},
   "outputs": [],
   "source": [
    "#This command parses the Excel file into a dataframe\n",
    "df = xl.parse('IBM Education Blueprint')"
   ]
  },
  {
   "cell_type": "code",
   "execution_count": 11,
   "metadata": {},
   "outputs": [],
   "source": [
    "#We want to sample a random number of rows within this data.\n",
    "df = df.sample(5000)"
   ]
  },
  {
   "cell_type": "code",
   "execution_count": 16,
   "metadata": {},
   "outputs": [],
   "source": [
    "#This will sort the sampled tweets by their original index.\n",
    "df = df.sort_index()"
   ]
  },
  {
   "cell_type": "code",
   "execution_count": 17,
   "metadata": {},
   "outputs": [
    {
     "data": {
      "text/plain": [
       "Index(['GUID', 'Date (EST)', 'URL', 'Contents', 'Author', 'Name', 'Country',\n",
       "       'State/Region', 'City/Urban Area', 'Category', 'Emotion', 'Source',\n",
       "       'Klout Score', 'Gender', 'Posts', 'Followers', 'Following',\n",
       "       'Post Title', 'Post Type', 'Image URL', 'Brand'],\n",
       "      dtype='object')"
      ]
     },
     "execution_count": 17,
     "metadata": {},
     "output_type": "execute_result"
    }
   ],
   "source": [
    "#This will return the columns from the data pull, we may want that for internal use, but for Figure Eight we want to dump most\n",
    "df.columns"
   ]
  },
  {
   "cell_type": "code",
   "execution_count": 18,
   "metadata": {},
   "outputs": [],
   "source": [
    "#This drops all non-essential columns currently stored in memory.\n",
    "df=df.drop(['Date (EST)', 'Author','Country','State/Region', 'City/Urban Area', 'Category', 'Emotion', 'Source',\n",
    "       'Klout Score', 'Gender', 'Posts', 'Followers', 'Following',\n",
    "       'Post Title', 'Post Type', 'Image URL', 'Brand' ],axis=1)"
   ]
  },
  {
   "cell_type": "code",
   "execution_count": 19,
   "metadata": {},
   "outputs": [],
   "source": [
    "#This renames the column names to the formatting of Figure Eight\n",
    "df = df.rename(columns={'GUID':'tweet_id', 'URL':'tweet_url', 'Contents':'tweet_content', 'Name':'name' })"
   ]
  },
  {
   "cell_type": "code",
   "execution_count": 20,
   "metadata": {},
   "outputs": [],
   "source": [
    "#This reshuffles the order of columns\n",
    "df = df[['name','tweet_content','tweet_id','tweet_url']]"
   ]
  },
  {
   "cell_type": "code",
   "execution_count": 21,
   "metadata": {},
   "outputs": [],
   "source": [
    "#This sets in the index to the name field.\n",
    "df=df.set_index('name')"
   ]
  },
  {
   "cell_type": "code",
   "execution_count": 22,
   "metadata": {},
   "outputs": [],
   "source": [
    "#This passes the dataframe to a csv and ensures the encoding desired bty Figure Eight\n",
    "df.to_csv('Educationandnewcollar.csv',encoding='utf-8')"
   ]
  },
  {
   "cell_type": "code",
   "execution_count": null,
   "metadata": {},
   "outputs": [],
   "source": []
  }
 ],
 "metadata": {
  "kernelspec": {
   "display_name": "Python 3",
   "language": "python",
   "name": "python3"
  },
  "language_info": {
   "codemirror_mode": {
    "name": "ipython",
    "version": 3
   },
   "file_extension": ".py",
   "mimetype": "text/x-python",
   "name": "python",
   "nbconvert_exporter": "python",
   "pygments_lexer": "ipython3",
   "version": "3.6.4"
  }
 },
 "nbformat": 4,
 "nbformat_minor": 2
}
